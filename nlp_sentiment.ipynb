{
  "cells": [
    {
      "cell_type": "markdown",
      "metadata": {
        "id": "SD4stNaZ2ToV"
      },
      "source": [
        "### **TRIỂN KHAI MÔI TRƯỜNG**"
      ]
    },
    {
      "cell_type": "code",
      "execution_count": 1,
      "metadata": {
        "colab": {
          "base_uri": "https://localhost:8080/"
        },
        "execution": {
          "iopub.execute_input": "2023-12-21T08:06:56.128869Z",
          "iopub.status.busy": "2023-12-21T08:06:56.128436Z",
          "iopub.status.idle": "2023-12-21T08:06:57.120700Z",
          "shell.execute_reply": "2023-12-21T08:06:57.119531Z",
          "shell.execute_reply.started": "2023-12-21T08:06:56.128811Z"
        },
        "id": "3rCTj1HQqye7",
        "outputId": "6326175a-9643-4bca-b10b-6d0e2cd91397",
        "trusted": true
      },
      "outputs": [
        {
          "name": "stdout",
          "output_type": "stream",
          "text": [
            "zsh:1: command not found: nvidia-smi\n"
          ]
        }
      ],
      "source": [
        "!nvidia-smi"
      ]
    },
    {
      "cell_type": "code",
      "execution_count": 2,
      "metadata": {
        "execution": {
          "iopub.execute_input": "2023-12-21T10:25:09.296680Z",
          "iopub.status.busy": "2023-12-21T10:25:09.295831Z",
          "iopub.status.idle": "2023-12-21T10:25:09.303651Z",
          "shell.execute_reply": "2023-12-21T10:25:09.302638Z",
          "shell.execute_reply.started": "2023-12-21T10:25:09.296647Z"
        },
        "id": "qIsxgU85nZzP",
        "trusted": true
      },
      "outputs": [],
      "source": [
        "import pickle\n",
        "import shutil\n",
        "\n",
        "import numpy as np\n",
        "import pandas as pd\n",
        "import matplotlib.pyplot as plt\n",
        "\n",
        "from keras.models import load_model\n",
        "from sklearn.preprocessing import label_binarize, LabelEncoder\n",
        "from sklearn.model_selection import train_test_split\n",
        "from sklearn.feature_extraction.text import CountVectorizer\n",
        "from sklearn.metrics import roc_curve, auc, f1_score, precision_recall_curve, precision_score\n",
        "from sklearn.metrics import average_precision_score, accuracy_score, recall_score\n",
        "from sklearn.metrics import classification_report, confusion_matrix, roc_auc_score\n",
        "\n",
        "from keras.models import Sequential\n",
        "from keras.preprocessing.text import Tokenizer\n",
        "from keras.preprocessing.sequence import pad_sequences\n",
        "from keras.layers import Dense, Embedding, LSTM, SpatialDropout1D\n",
        "\n",
        "import nltk\n",
        "from nltk import classify\n",
        "from nltk.tokenize import word_tokenize\n",
        "from nltk.probability import LaplaceProbDist\n",
        "from nltk.classify import NaiveBayesClassifier, MaxentClassifier"
      ]
    },
    {
      "cell_type": "code",
      "execution_count": 3,
      "metadata": {
        "colab": {
          "base_uri": "https://localhost:8080/"
        },
        "execution": {
          "iopub.execute_input": "2023-12-21T08:07:10.368757Z",
          "iopub.status.busy": "2023-12-21T08:07:10.368192Z",
          "iopub.status.idle": "2023-12-21T08:07:10.538673Z",
          "shell.execute_reply": "2023-12-21T08:07:10.537753Z",
          "shell.execute_reply.started": "2023-12-21T08:07:10.368729Z"
        },
        "id": "_6Q0945rMGUb",
        "outputId": "a2cf94e5-6f64-451f-8209-7f47d9ab3609",
        "trusted": true
      },
      "outputs": [
        {
          "name": "stderr",
          "output_type": "stream",
          "text": [
            "[nltk_data] Downloading package punkt to\n",
            "[nltk_data]     /Users/dangnhathuy/nltk_data...\n",
            "[nltk_data]   Package punkt is already up-to-date!\n"
          ]
        },
        {
          "data": {
            "text/plain": [
              "True"
            ]
          },
          "execution_count": 3,
          "metadata": {},
          "output_type": "execute_result"
        }
      ],
      "source": [
        "nltk.download('punkt')"
      ]
    },
    {
      "cell_type": "code",
      "execution_count": 4,
      "metadata": {
        "execution": {
          "iopub.execute_input": "2023-12-21T08:07:10.541175Z",
          "iopub.status.busy": "2023-12-21T08:07:10.540855Z",
          "iopub.status.idle": "2023-12-21T08:07:11.101129Z",
          "shell.execute_reply": "2023-12-21T08:07:11.100284Z",
          "shell.execute_reply.started": "2023-12-21T08:07:10.541138Z"
        },
        "id": "MNbyZkwVxxKY",
        "trusted": true
      },
      "outputs": [],
      "source": [
        "path = 'https://raw.githubusercontent.com/dangdailoi/NLP/main/Ratings.csv'\n",
        "\n",
        "df = pd.read_csv(path)"
      ]
    },
    {
      "cell_type": "markdown",
      "metadata": {
        "id": "oULAeZB-1VyS"
      },
      "source": [
        "### **Processing**"
      ]
    },
    {
      "cell_type": "code",
      "execution_count": 5,
      "metadata": {
        "execution": {
          "iopub.execute_input": "2023-12-21T12:39:32.679749Z",
          "iopub.status.busy": "2023-12-21T12:39:32.678548Z",
          "iopub.status.idle": "2023-12-21T12:39:32.692692Z",
          "shell.execute_reply": "2023-12-21T12:39:32.691870Z",
          "shell.execute_reply.started": "2023-12-21T12:39:32.679704Z"
        },
        "id": "c75CNd3S1enj",
        "trusted": true
      },
      "outputs": [],
      "source": [
        "# Assuming df is your DataFrame with 'review' and 'label' columns\n",
        "X_train, X_test, y_train, y_test = train_test_split(df['review'], df['label'], test_size=0.2, random_state=42)"
      ]
    },
    {
      "cell_type": "code",
      "execution_count": 6,
      "metadata": {
        "execution": {
          "iopub.execute_input": "2023-12-21T12:41:40.992551Z",
          "iopub.status.busy": "2023-12-21T12:41:40.991952Z",
          "iopub.status.idle": "2023-12-21T12:41:50.028026Z",
          "shell.execute_reply": "2023-12-21T12:41:50.026980Z",
          "shell.execute_reply.started": "2023-12-21T12:41:40.992511Z"
        },
        "id": "NCwv1nH_1jNh",
        "trusted": true
      },
      "outputs": [],
      "source": [
        "# Train data\n",
        "train_data = []\n",
        "for index, row in enumerate(X_train):\n",
        "    words = word_tokenize(row)\n",
        "    words = [word.lower() for word in words if word.isalpha()]\n",
        "    features = dict([(word, True) for word in words])\n",
        "    train_data.append((features, y_train.iloc[index]))"
      ]
    },
    {
      "cell_type": "code",
      "execution_count": 7,
      "metadata": {
        "execution": {
          "iopub.execute_input": "2023-12-21T13:10:55.309625Z",
          "iopub.status.busy": "2023-12-21T13:10:55.308768Z",
          "iopub.status.idle": "2023-12-21T13:10:57.423384Z",
          "shell.execute_reply": "2023-12-21T13:10:57.422457Z",
          "shell.execute_reply.started": "2023-12-21T13:10:55.309591Z"
        },
        "id": "dt6koEIX1oFw",
        "trusted": true
      },
      "outputs": [],
      "source": [
        "# Evaluate on the test set\n",
        "true_labels = []\n",
        "test_data = []\n",
        "\n",
        "for text, label in zip(X_test, y_test):  # Assuming y_test contains labels\n",
        "    words = nltk.word_tokenize(text)\n",
        "    words = [word.lower() for word in words if word.isalpha()]\n",
        "    features = dict([(word, True) for word in words])\n",
        "    test_data.append((features, label))\n",
        "    true_labels.append(label)"
      ]
    },
    {
      "cell_type": "markdown",
      "metadata": {
        "id": "9XTbqeYx1Iu3"
      },
      "source": [
        "### **NaiveBayesClassifier**"
      ]
    },
    {
      "cell_type": "code",
      "execution_count": 8,
      "metadata": {
        "execution": {
          "iopub.execute_input": "2023-12-21T08:07:46.473869Z",
          "iopub.status.busy": "2023-12-21T08:07:46.473555Z",
          "iopub.status.idle": "2023-12-21T08:07:47.899814Z",
          "shell.execute_reply": "2023-12-21T08:07:47.898793Z",
          "shell.execute_reply.started": "2023-12-21T08:07:46.473842Z"
        },
        "id": "Jtz5s2Ygx3Di",
        "trusted": true
      },
      "outputs": [],
      "source": [
        "classifier_nb = NaiveBayesClassifier.train(train_data, estimator = LaplaceProbDist)"
      ]
    },
    {
      "cell_type": "code",
      "execution_count": 9,
      "metadata": {
        "execution": {
          "iopub.execute_input": "2023-12-21T08:07:47.903385Z",
          "iopub.status.busy": "2023-12-21T08:07:47.903084Z",
          "iopub.status.idle": "2023-12-21T08:07:48.108755Z",
          "shell.execute_reply": "2023-12-21T08:07:48.107763Z",
          "shell.execute_reply.started": "2023-12-21T08:07:47.903358Z"
        },
        "id": "wf3X8wSX9-iS",
        "trusted": true
      },
      "outputs": [],
      "source": [
        "# Save the NaiveBayesClassifier model\n",
        "with open('./model/model_naivebayes.pickle', 'wb') as model_file:\n",
        "    pickle.dump(classifier_nb, model_file)"
      ]
    },
    {
      "cell_type": "markdown",
      "metadata": {
        "id": "9zqgEwSj1s-j"
      },
      "source": [
        "### **MaxentClassifier**"
      ]
    },
    {
      "cell_type": "code",
      "execution_count": 10,
      "metadata": {
        "colab": {
          "base_uri": "https://localhost:8080/"
        },
        "execution": {
          "iopub.execute_input": "2023-12-21T12:42:08.981814Z",
          "iopub.status.busy": "2023-12-21T12:42:08.981411Z",
          "iopub.status.idle": "2023-12-21T12:43:53.230884Z",
          "shell.execute_reply": "2023-12-21T12:43:53.229862Z",
          "shell.execute_reply.started": "2023-12-21T12:42:08.981782Z"
        },
        "id": "ZnT7GJ8u1z_k",
        "outputId": "1e7e92b9-183e-4824-9f13-05e468c8bc6b",
        "trusted": true
      },
      "outputs": [
        {
          "name": "stdout",
          "output_type": "stream",
          "text": [
            "  ==> Training (10 iterations)\n",
            "\n",
            "      Iteration    Log Likelihood    Accuracy\n",
            "      ---------------------------------------\n",
            "             1          -0.69315        0.808\n",
            "             2          -0.26253        0.892\n",
            "             3          -0.21203        0.909\n",
            "             4          -0.19822        0.913\n",
            "             5          -0.19097        0.915\n",
            "             6          -0.18581        0.917\n",
            "             7          -0.18174        0.919\n",
            "             8          -0.17836        0.920\n",
            "             9          -0.17549        0.920\n",
            "         Final          -0.17299        0.921\n"
          ]
        }
      ],
      "source": [
        "classifier_mx = MaxentClassifier.train(train_data, algorithm='iis', max_iter=10)"
      ]
    },
    {
      "cell_type": "code",
      "execution_count": 11,
      "metadata": {
        "execution": {
          "iopub.execute_input": "2023-12-21T08:09:47.406641Z",
          "iopub.status.busy": "2023-12-21T08:09:47.406356Z",
          "iopub.status.idle": "2023-12-21T08:09:47.423150Z",
          "shell.execute_reply": "2023-12-21T08:09:47.422416Z",
          "shell.execute_reply.started": "2023-12-21T08:09:47.406615Z"
        },
        "id": "7XZNBLki-I2J",
        "trusted": true
      },
      "outputs": [],
      "source": [
        "# Save the MaxentClassifier model\n",
        "with open('./model/model_maxent.pickle', 'wb') as model_file:\n",
        "    pickle.dump(classifier_mx, model_file)"
      ]
    },
    {
      "cell_type": "markdown",
      "metadata": {
        "id": "FeNxj4kFI9MD"
      },
      "source": [
        "### **LSTM**"
      ]
    },
    {
      "cell_type": "code",
      "execution_count": 33,
      "metadata": {
        "execution": {
          "iopub.execute_input": "2023-12-21T13:21:25.584715Z",
          "iopub.status.busy": "2023-12-21T13:21:25.584000Z",
          "iopub.status.idle": "2023-12-21T13:21:28.390636Z",
          "shell.execute_reply": "2023-12-21T13:21:28.389791Z",
          "shell.execute_reply.started": "2023-12-21T13:21:25.584681Z"
        },
        "id": "7bght1j4KTbb",
        "trusted": true
      },
      "outputs": [],
      "source": [
        "# Tokenize the text\n",
        "max_words = 1000\n",
        "tokenizer = Tokenizer(num_words=max_words, split=' ')\n",
        "tokenizer.fit_on_texts(df['review'].values)\n",
        "X = tokenizer.texts_to_sequences(df['review'].values)\n",
        "X = pad_sequences(X)\n",
        "y = df['label']"
      ]
    },
    {
      "cell_type": "code",
      "execution_count": 34,
      "metadata": {
        "execution": {
          "iopub.execute_input": "2023-12-21T13:21:52.152197Z",
          "iopub.status.busy": "2023-12-21T13:21:52.151809Z",
          "iopub.status.idle": "2023-12-21T13:21:52.180525Z",
          "shell.execute_reply": "2023-12-21T13:21:52.179584Z",
          "shell.execute_reply.started": "2023-12-21T13:21:52.152170Z"
        },
        "id": "dJdel5_pnZzU",
        "trusted": true
      },
      "outputs": [],
      "source": [
        "# Split the data\n",
        "X_train_lstm, X_test_lstm, y_train_lstm, y_test_lstm = train_test_split(X, y, test_size=0.2, random_state=42)"
      ]
    },
    {
      "cell_type": "code",
      "execution_count": 35,
      "metadata": {
        "execution": {
          "iopub.execute_input": "2023-12-21T08:09:49.740283Z",
          "iopub.status.busy": "2023-12-21T08:09:49.739910Z",
          "iopub.status.idle": "2023-12-21T08:09:52.884401Z",
          "shell.execute_reply": "2023-12-21T08:09:52.883613Z",
          "shell.execute_reply.started": "2023-12-21T08:09:49.740240Z"
        },
        "id": "vQx56MWtKrsz",
        "trusted": true
      },
      "outputs": [],
      "source": [
        "# Build the LSTM model\n",
        "embedding_dim = 128\n",
        "lstm_model = Sequential()\n",
        "lstm_model.add(Embedding(max_words, embedding_dim, input_length=X.shape[1]))\n",
        "lstm_model.add(SpatialDropout1D(0.2))\n",
        "lstm_model.add(LSTM(100, dropout=0.2, recurrent_dropout=0.2))\n",
        "lstm_model.add(Dense(1, activation='sigmoid'))\n",
        "lstm_model.compile(loss='binary_crossentropy', optimizer='adam', metrics=['accuracy'])"
      ]
    },
    {
      "cell_type": "code",
      "execution_count": 36,
      "metadata": {
        "colab": {
          "base_uri": "https://localhost:8080/"
        },
        "execution": {
          "iopub.execute_input": "2023-12-21T08:09:52.886182Z",
          "iopub.status.busy": "2023-12-21T08:09:52.885920Z",
          "iopub.status.idle": "2023-12-21T09:59:15.102618Z",
          "shell.execute_reply": "2023-12-21T09:59:15.101763Z",
          "shell.execute_reply.started": "2023-12-21T08:09:52.886158Z"
        },
        "id": "etQC_s6nJf4A",
        "outputId": "b43e38f8-a97b-4e86-a631-03fffa8d3ec3",
        "trusted": true
      },
      "outputs": [
        {
          "name": "stdout",
          "output_type": "stream",
          "text": [
            "Epoch 1/5\n",
            "2020/2020 [==============================] - 223s 110ms/step - loss: 0.2699 - accuracy: 0.8988 - val_loss: 0.2412 - val_accuracy: 0.9132\n",
            "Epoch 2/5\n",
            "2020/2020 [==============================] - 227s 113ms/step - loss: 0.2351 - accuracy: 0.9141 - val_loss: 0.2337 - val_accuracy: 0.9158\n",
            "Epoch 3/5\n",
            "2020/2020 [==============================] - 218s 108ms/step - loss: 0.2257 - accuracy: 0.9181 - val_loss: 0.2287 - val_accuracy: 0.9166\n",
            "Epoch 4/5\n",
            "2020/2020 [==============================] - 217s 107ms/step - loss: 0.2190 - accuracy: 0.9204 - val_loss: 0.2291 - val_accuracy: 0.9167\n",
            "Epoch 5/5\n",
            "2020/2020 [==============================] - 222s 110ms/step - loss: 0.2142 - accuracy: 0.9218 - val_loss: 0.2292 - val_accuracy: 0.9171\n"
          ]
        },
        {
          "data": {
            "text/plain": [
              "<keras.src.callbacks.History at 0x2cecffed0>"
            ]
          },
          "execution_count": 36,
          "metadata": {},
          "output_type": "execute_result"
        }
      ],
      "source": [
        "# Train the model\n",
        "batch_size = 32\n",
        "epochs = 5\n",
        "lstm_model.fit(X_train_lstm, y_train_lstm, epochs=epochs, batch_size=batch_size, validation_data=(X_test_lstm, y_test_lstm))"
      ]
    },
    {
      "cell_type": "code",
      "execution_count": 37,
      "metadata": {
        "execution": {
          "iopub.execute_input": "2023-12-21T09:59:15.104285Z",
          "iopub.status.busy": "2023-12-21T09:59:15.103974Z",
          "iopub.status.idle": "2023-12-21T09:59:15.142484Z",
          "shell.execute_reply": "2023-12-21T09:59:15.141500Z",
          "shell.execute_reply.started": "2023-12-21T09:59:15.104258Z"
        },
        "id": "VWtE2p9JFHB_",
        "outputId": "d965405a-3999-439c-f075-ee28e29d80aa",
        "trusted": true
      },
      "outputs": [
        {
          "name": "stderr",
          "output_type": "stream",
          "text": [
            "/Library/Frameworks/Python.framework/Versions/3.11/lib/python3.11/site-packages/keras/src/engine/training.py:3103: UserWarning: You are saving your model as an HDF5 file via `model.save()`. This file format is considered legacy. We recommend using instead the native Keras format, e.g. `model.save('my_model.keras')`.\n",
            "  saving_api.save_model(\n"
          ]
        }
      ],
      "source": [
        "# Save the LSTM model\n",
        "lstm_model.save('./model/model_lstm.h5')"
      ]
    },
    {
      "cell_type": "markdown",
      "metadata": {
        "id": "_oTsOz1w2dLp"
      },
      "source": [
        "### **Fuction Evaluate**"
      ]
    },
    {
      "cell_type": "code",
      "execution_count": 38,
      "metadata": {
        "execution": {
          "iopub.execute_input": "2023-12-21T13:24:45.080990Z",
          "iopub.status.busy": "2023-12-21T13:24:45.080107Z",
          "iopub.status.idle": "2023-12-21T13:24:45.092472Z",
          "shell.execute_reply": "2023-12-21T13:24:45.091404Z",
          "shell.execute_reply.started": "2023-12-21T13:24:45.080958Z"
        },
        "id": "KLX4QKa7nZzU",
        "trusted": true
      },
      "outputs": [],
      "source": [
        "def compare_models_performance(model_names, models, test_data_list, true_labels_list):\n",
        "    results = []\n",
        "\n",
        "    for name, model, test_data, true_labels in zip(model_names, models, test_data_list, true_labels_list):\n",
        "        if name == 'LSTM':\n",
        "            predictions = (model.predict(test_data) > 0.5).astype(int).flatten()\n",
        "        else:\n",
        "            predictions = [model.classify(features) for features, _ in test_data]\n",
        "\n",
        "        accuracy = accuracy_score(true_labels, predictions)\n",
        "        precision = precision_score(true_labels, predictions)\n",
        "        recall = recall_score(true_labels, predictions)\n",
        "        f1 = f1_score(true_labels, predictions)\n",
        "        auc = roc_auc_score(true_labels, predictions)\n",
        "\n",
        "        results.append({\n",
        "            'Model': name,\n",
        "            'Accuracy': accuracy,\n",
        "            'Precision': precision,\n",
        "            'Recall': recall,\n",
        "            'F1 Score': f1,\n",
        "            'AUC': auc,\n",
        "        })\n",
        "\n",
        "    df = pd.DataFrame(results)\n",
        "    df_styled = df.style.applymap(lambda x: f'background-color: {x}', subset=['Accuracy', 'Precision', 'Recall', 'F1 Score', 'AUC'])\n",
        "    df_styled = df_styled.background_gradient(cmap='Blues', subset=['Accuracy', 'Precision', 'Recall', 'F1 Score', 'AUC'])\n",
        "    return df_styled"
      ]
    },
    {
      "cell_type": "code",
      "execution_count": 39,
      "metadata": {
        "execution": {
          "iopub.execute_input": "2023-12-21T13:41:33.779301Z",
          "iopub.status.busy": "2023-12-21T13:41:33.778784Z",
          "iopub.status.idle": "2023-12-21T13:41:33.787993Z",
          "shell.execute_reply": "2023-12-21T13:41:33.786699Z",
          "shell.execute_reply.started": "2023-12-21T13:41:33.779267Z"
        },
        "id": "ZnzPcorpnZzV",
        "trusted": true
      },
      "outputs": [],
      "source": [
        "def plot_precision_recall_curves(model_names, models, test_data_list, true_labels_list):\n",
        "    plt.figure(figsize=(8, 6))\n",
        "\n",
        "    for model, test_data, label, true_labels in zip(models, test_data_list, model_names, true_labels_list):\n",
        "        if 'LSTM' in label:\n",
        "            probs = model.predict(test_data)\n",
        "        else:\n",
        "            probs = [model.prob_classify(features).prob(1) for features, _ in test_data]\n",
        "\n",
        "        precision, recall, _ = precision_recall_curve(true_labels, probs)\n",
        "        pr_auc = average_precision_score(true_labels, probs)\n",
        "\n",
        "        # Plot precision-recall curve for the model\n",
        "        plt.plot(recall, precision, lw=2, label=f'{label} (AUC = {pr_auc:.2f})')\n",
        "\n",
        "    plt.xlabel('Recall')\n",
        "    plt.ylabel('Precision')\n",
        "    plt.title('Precision-Recall Curve')\n",
        "    plt.legend(loc='upper right')\n",
        "    plt.show()"
      ]
    },
    {
      "cell_type": "code",
      "execution_count": 40,
      "metadata": {
        "id": "3CE01ulFnZzV"
      },
      "outputs": [],
      "source": [
        "def plot_roc_curves(model_names, models, test_data_list, true_labels_list):\n",
        "    plt.figure(figsize=(8, 6))\n",
        "\n",
        "    for model, test_data, label, true_labels in zip(models, test_data_list, model_names, true_labels_list):\n",
        "        # Check if the model is Naive Bayes or LSTM\n",
        "        if 'LSTM' in label:\n",
        "            # For LSTM, use the model.predict instead of model.predict_proba\n",
        "            probs = model.predict(test_data)[:, 0]  # Assuming you want the probability of the positive class\n",
        "        else:\n",
        "            # For Naive Bayes or other models, use the existing approach\n",
        "            probs = [model.prob_classify(features).prob(1) for features, _ in test_data]\n",
        "\n",
        "        fpr, tpr, _ = roc_curve(true_labels, probs)\n",
        "        roc_auc = auc(fpr, tpr)\n",
        "\n",
        "        # Plot ROC curve for the model\n",
        "        plt.plot(fpr, tpr, lw=2, label=f'{label} (AUC = {roc_auc:.2f})')\n",
        "\n",
        "    plt.plot([0, 1], [0, 1], color='navy', lw=2, linestyle='--')\n",
        "    plt.xlabel('False Positive Rate')\n",
        "    plt.ylabel('True Positive Rate')\n",
        "    plt.title('Receiver Operating Characteristic (ROC) Curve')\n",
        "    plt.legend(loc='lower right')\n",
        "    plt.show()"
      ]
    },
    {
      "cell_type": "markdown",
      "metadata": {
        "id": "ys9_AZNtuRwy"
      },
      "source": [
        "### **Evaluation**"
      ]
    },
    {
      "cell_type": "code",
      "execution_count": 41,
      "metadata": {
        "colab": {
          "base_uri": "https://localhost:8080/"
        },
        "id": "ptfX9rT1uZf8",
        "outputId": "9e137a0f-00f8-449b-d77c-31a200245e6d"
      },
      "outputs": [],
      "source": [
        "with open('./model/model_naivebayes.pickle', 'rb') as model_file:\n",
        "    classifier_nb = pickle.load(model_file)\n",
        "\n",
        "with open('./model/model_maxent.pickle', 'rb') as model_file:\n",
        "    classifier_mx= pickle.load(model_file)\n",
        "\n",
        "model_lstm = load_model('./model/model_lstm.h5')\n",
        "\n",
        "model_names = ['Naive Bayes', 'MEMM', 'LSTM']\n",
        "models = [classifier_nb, classifier_mx, model_lstm]\n",
        "test_data_list = [test_data, test_data, X_test_lstm]\n",
        "true_labels_list = [true_labels, true_labels, y_test_lstm]"
      ]
    },
    {
      "cell_type": "code",
      "execution_count": 42,
      "metadata": {
        "colab": {
          "base_uri": "https://localhost:8080/",
          "height": 161
        },
        "id": "w5JFIjmDudAb",
        "outputId": "e8355788-2067-4f18-c416-34eb15db77a7"
      },
      "outputs": [
        {
          "name": "stdout",
          "output_type": "stream",
          "text": [
            "505/505 [==============================] - 11s 22ms/step\n"
          ]
        },
        {
          "data": {
            "text/html": [
              "<style type=\"text/css\">\n",
              "#T_4bde5_row0_col1 {\n",
              "  background-color: 0.9053602376825947;\n",
              "  background-color: #f7fbff;\n",
              "  color: #000000;\n",
              "}\n",
              "#T_4bde5_row0_col2 {\n",
              "  background-color: 0.9234467455621301;\n",
              "  background-color: #f7fbff;\n",
              "  color: #000000;\n",
              "}\n",
              "#T_4bde5_row0_col3 {\n",
              "  background-color: 0.9619385160644117;\n",
              "  background-color: #f7fbff;\n",
              "  color: #000000;\n",
              "}\n",
              "#T_4bde5_row0_col4 {\n",
              "  background-color: 0.9422997094229971;\n",
              "  background-color: #f7fbff;\n",
              "  color: #000000;\n",
              "}\n",
              "#T_4bde5_row0_col5 {\n",
              "  background-color: 0.8180797396186081;\n",
              "  background-color: #f7fbff;\n",
              "  color: #000000;\n",
              "}\n",
              "#T_4bde5_row1_col1 {\n",
              "  background-color: 0.9171205743996038;\n",
              "  background-color: #08306b;\n",
              "  color: #f1f1f1;\n",
              "}\n",
              "#T_4bde5_row1_col2 {\n",
              "  background-color: 0.9346527259148618;\n",
              "  background-color: #08306b;\n",
              "  color: #f1f1f1;\n",
              "}\n",
              "#T_4bde5_row1_col3 {\n",
              "  background-color: 0.9642499422143462;\n",
              "  background-color: #8abfdd;\n",
              "  color: #000000;\n",
              "}\n",
              "#T_4bde5_row1_col4 {\n",
              "  background-color: 0.9492206757935455;\n",
              "  background-color: #083471;\n",
              "  color: #f1f1f1;\n",
              "}\n",
              "#T_4bde5_row1_col5 {\n",
              "  background-color: 0.8444164410473682;\n",
              "  background-color: #08306b;\n",
              "  color: #f1f1f1;\n",
              "}\n",
              "#T_4bde5_row2_col1 {\n",
              "  background-color: 0.9170586778905669;\n",
              "  background-color: #08316d;\n",
              "  color: #f1f1f1;\n",
              "}\n",
              "#T_4bde5_row2_col2 {\n",
              "  background-color: 0.9319379499740221;\n",
              "  background-color: #206fb4;\n",
              "  color: #f1f1f1;\n",
              "}\n",
              "#T_4bde5_row2_col3 {\n",
              "  background-color: 0.9674088912859234;\n",
              "  background-color: #08306b;\n",
              "  color: #f1f1f1;\n",
              "}\n",
              "#T_4bde5_row2_col4 {\n",
              "  background-color: 0.9493422047482232;\n",
              "  background-color: #08306b;\n",
              "  color: #f1f1f1;\n",
              "}\n",
              "#T_4bde5_row2_col5 {\n",
              "  background-color: 0.8393859061402863;\n",
              "  background-color: #1561a9;\n",
              "  color: #f1f1f1;\n",
              "}\n",
              "</style>\n",
              "<table id=\"T_4bde5\">\n",
              "  <thead>\n",
              "    <tr>\n",
              "      <th class=\"blank level0\" >&nbsp;</th>\n",
              "      <th id=\"T_4bde5_level0_col0\" class=\"col_heading level0 col0\" >Model</th>\n",
              "      <th id=\"T_4bde5_level0_col1\" class=\"col_heading level0 col1\" >Accuracy</th>\n",
              "      <th id=\"T_4bde5_level0_col2\" class=\"col_heading level0 col2\" >Precision</th>\n",
              "      <th id=\"T_4bde5_level0_col3\" class=\"col_heading level0 col3\" >Recall</th>\n",
              "      <th id=\"T_4bde5_level0_col4\" class=\"col_heading level0 col4\" >F1 Score</th>\n",
              "      <th id=\"T_4bde5_level0_col5\" class=\"col_heading level0 col5\" >AUC</th>\n",
              "    </tr>\n",
              "  </thead>\n",
              "  <tbody>\n",
              "    <tr>\n",
              "      <th id=\"T_4bde5_level0_row0\" class=\"row_heading level0 row0\" >0</th>\n",
              "      <td id=\"T_4bde5_row0_col0\" class=\"data row0 col0\" >Naive Bayes</td>\n",
              "      <td id=\"T_4bde5_row0_col1\" class=\"data row0 col1\" >0.905360</td>\n",
              "      <td id=\"T_4bde5_row0_col2\" class=\"data row0 col2\" >0.923447</td>\n",
              "      <td id=\"T_4bde5_row0_col3\" class=\"data row0 col3\" >0.961939</td>\n",
              "      <td id=\"T_4bde5_row0_col4\" class=\"data row0 col4\" >0.942300</td>\n",
              "      <td id=\"T_4bde5_row0_col5\" class=\"data row0 col5\" >0.818080</td>\n",
              "    </tr>\n",
              "    <tr>\n",
              "      <th id=\"T_4bde5_level0_row1\" class=\"row_heading level0 row1\" >1</th>\n",
              "      <td id=\"T_4bde5_row1_col0\" class=\"data row1 col0\" >MEMM</td>\n",
              "      <td id=\"T_4bde5_row1_col1\" class=\"data row1 col1\" >0.917121</td>\n",
              "      <td id=\"T_4bde5_row1_col2\" class=\"data row1 col2\" >0.934653</td>\n",
              "      <td id=\"T_4bde5_row1_col3\" class=\"data row1 col3\" >0.964250</td>\n",
              "      <td id=\"T_4bde5_row1_col4\" class=\"data row1 col4\" >0.949221</td>\n",
              "      <td id=\"T_4bde5_row1_col5\" class=\"data row1 col5\" >0.844416</td>\n",
              "    </tr>\n",
              "    <tr>\n",
              "      <th id=\"T_4bde5_level0_row2\" class=\"row_heading level0 row2\" >2</th>\n",
              "      <td id=\"T_4bde5_row2_col0\" class=\"data row2 col0\" >LSTM</td>\n",
              "      <td id=\"T_4bde5_row2_col1\" class=\"data row2 col1\" >0.917059</td>\n",
              "      <td id=\"T_4bde5_row2_col2\" class=\"data row2 col2\" >0.931938</td>\n",
              "      <td id=\"T_4bde5_row2_col3\" class=\"data row2 col3\" >0.967409</td>\n",
              "      <td id=\"T_4bde5_row2_col4\" class=\"data row2 col4\" >0.949342</td>\n",
              "      <td id=\"T_4bde5_row2_col5\" class=\"data row2 col5\" >0.839386</td>\n",
              "    </tr>\n",
              "  </tbody>\n",
              "</table>\n"
            ],
            "text/plain": [
              "<pandas.io.formats.style.Styler at 0x2916be250>"
            ]
          },
          "execution_count": 42,
          "metadata": {},
          "output_type": "execute_result"
        }
      ],
      "source": [
        "compare_models_performance(model_names, models, test_data_list, true_labels_list)"
      ]
    },
    {
      "cell_type": "code",
      "execution_count": 43,
      "metadata": {
        "colab": {
          "base_uri": "https://localhost:8080/",
          "height": 581
        },
        "id": "DFxSK7bBvE9F",
        "outputId": "4d3e4153-65e4-47c9-adbd-39b7d3ffda46"
      },
      "outputs": [
        {
          "name": "stdout",
          "output_type": "stream",
          "text": [
            "505/505 [==============================] - 11s 23ms/step\n"
          ]
        },
        {
          "data": {
            "image/png": "[encoded data removed]",
            "text/plain": [
              "<Figure size 800x600 with 1 Axes>"
            ]
          },
          "metadata": {},
          "output_type": "display_data"
        }
      ],
      "source": [
        "plot_precision_recall_curves(model_names, models, test_data_list, true_labels_list)"
      ]
    },
    {
      "cell_type": "code",
      "execution_count": 44,
      "metadata": {
        "colab": {
          "base_uri": "https://localhost:8080/",
          "height": 581
        },
        "id": "5yaYZmmYwrmw",
        "outputId": "2e494428-cced-4636-8c17-d915f42e71d2"
      },
      "outputs": [
        {
          "name": "stdout",
          "output_type": "stream",
          "text": [
            "505/505 [==============================] - 11s 22ms/step\n"
          ]
        },
        {
          "data": {
            "image/png": "[encoded data removed]",
            "text/plain": [
              "<Figure size 800x600 with 1 Axes>"
            ]
          },
          "metadata": {},
          "output_type": "display_data"
        }
      ],
      "source": [
        "plot_roc_curves(model_names, models, test_data_list, true_labels_list)"
      ]
    }
  ],
  "metadata": {
    "accelerator": "GPU",
    "colab": {
      "gpuType": "T4",
      "provenance": [],
      "toc_visible": true
    },
    "kaggle": {
      "accelerator": "gpu",
      "dataSources": [],
      "dockerImageVersionId": 30627,
      "isGpuEnabled": true,
      "isInternetEnabled": true,
      "language": "python",
      "sourceType": "notebook"
    },
    "kernelspec": {
      "display_name": "Python 3",
      "language": "python",
      "name": "python3"
    },
    "language_info": {
      "codemirror_mode": {
        "name": "ipython",
        "version": 3
      },
      "file_extension": ".py",
      "mimetype": "text/x-python",
      "name": "python",
      "nbconvert_exporter": "python",
      "pygments_lexer": "ipython3",
      "version": "3.11.1"
    }
  },
  "nbformat": 4,
  "nbformat_minor": 0
}
